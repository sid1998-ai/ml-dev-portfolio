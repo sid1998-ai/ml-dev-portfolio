{
 "cells": [
  {
   "cell_type": "code",
   "execution_count": 38,
   "id": "fdbbd332-39b8-4eac-9d21-3911c8b81c4f",
   "metadata": {},
   "outputs": [],
   "source": [
    "#variable declaration\n",
    "x = 10\n",
    "y = 3.5\n",
    "name = 'Siddharth'\n",
    "is_ml_dev = True  # not allowed with small t\n",
    "letter = 'c'\n"
   ]
  },
  {
   "cell_type": "code",
   "execution_count": 39,
   "id": "8ee2d3dc-169e-4f6a-aead-6b14a91ccec3",
   "metadata": {},
   "outputs": [
    {
     "name": "stdout",
     "output_type": "stream",
     "text": [
      "<class 'int'> <class 'float'> <class 'str'> <class 'bool'> <class 'str'>\n"
     ]
    }
   ],
   "source": [
    "#Type check\n",
    "print(type(x),type(y),type(name),type(is_ml_dev), type(letter))"
   ]
  },
  {
   "cell_type": "code",
   "execution_count": 19,
   "id": "f7d5da5f-6f29-4de6-aecc-4b1aeba14e45",
   "metadata": {},
   "outputs": [
    {
     "name": "stdout",
     "output_type": "stream",
     "text": [
      "13.5\n",
      "Siddharth Rane\n",
      "8\n",
      "6\n",
      "0.6666666666666666\n",
      "0\n"
     ]
    }
   ],
   "source": [
    "#operations\n",
    "print(x + y)\n",
    "print(name + \" Rane\")\n",
    "print(2 ** 3)\n",
    "print(2 * 3)\n",
    "print(2 / 3)\n",
    "print(2 // 3)"
   ]
  },
  {
   "cell_type": "code",
   "execution_count": 21,
   "id": "3287b20a-2641-4f12-be13-46b6839d173d",
   "metadata": {},
   "outputs": [
    {
     "name": "stdout",
     "output_type": "stream",
     "text": [
      "10Siddharth\n",
      "10.0\n"
     ]
    }
   ],
   "source": [
    "#typecasting\n",
    "print(str(x) + name)\n",
    "# print(int(name))  not allowed\n",
    "print(float(x))"
   ]
  },
  {
   "cell_type": "code",
   "execution_count": 29,
   "id": "30494134-7a42-4c5f-adb4-89f1ba57e5c9",
   "metadata": {},
   "outputs": [
    {
     "name": "stdout",
     "output_type": "stream",
     "text": [
      "2.0\n",
      "2\n"
     ]
    }
   ],
   "source": [
    "#difference between / and // operator\n",
    "print(8/4)   #returns whole number or decimal. always float\n",
    "print(8 // 4)  #returns integer. rounds to nearest whole number"
   ]
  },
  {
   "cell_type": "code",
   "execution_count": null,
   "id": "13fb80d9-7309-4b25-a4ad-84a9d0d48814",
   "metadata": {},
   "outputs": [],
   "source": [
    "#Lists, Tuples, Sets, Dicts"
   ]
  },
  {
   "cell_type": "code",
   "execution_count": null,
   "id": "3fba9ef0-257d-4ee3-9334-88567a4c64ad",
   "metadata": {},
   "outputs": [],
   "source": [
    "#📘 Concepts:\n",
    "\n",
    "#Create, index, slice, modify\n",
    "\n",
    "#.append(), .remove(), .get() for dicts"
   ]
  },
  {
   "cell_type": "code",
   "execution_count": 66,
   "id": "5db2e5d7-af1e-4872-bb8e-37301e896750",
   "metadata": {},
   "outputs": [
    {
     "name": "stdout",
     "output_type": "stream",
     "text": [
      "[1, 2, 3, 4, 5, 6]\n"
     ]
    }
   ],
   "source": [
    "#declaring a list\n",
    "my_list = [1,2,3,4,5]\n",
    "\n",
    "#trying to append another value to the list at the end\n",
    "my_list.append(6)  #append only takes 1 argument\n",
    "print(my_list)"
   ]
  },
  {
   "cell_type": "code",
   "execution_count": 67,
   "id": "fa967a15-de1c-4865-9b6c-a7032b2cfa31",
   "metadata": {},
   "outputs": [
    {
     "name": "stdout",
     "output_type": "stream",
     "text": [
      "[1, 2, 3, 4, 5, 6, 'Sid']\n",
      "<class 'list'>\n"
     ]
    }
   ],
   "source": [
    "#try to append a value of another data type\n",
    "my_list.append('Sid')\n",
    "print(my_list)\n",
    "print(type(my_list))"
   ]
  },
  {
   "cell_type": "code",
   "execution_count": 68,
   "id": "5a66da89-5479-46df-8781-a236be10bca4",
   "metadata": {},
   "outputs": [
    {
     "name": "stdout",
     "output_type": "stream",
     "text": [
      "[1, 2, 3, 4, 5, 6]\n"
     ]
    }
   ],
   "source": [
    "#removing an element from list\n",
    "my_list.remove(\"Sid\") #or my_list.remove('Sid'). if not in list it throws error\n",
    "print(my_list)"
   ]
  },
  {
   "cell_type": "code",
   "execution_count": 69,
   "id": "060b5336-2508-46f9-a0e7-c14bc24bf4da",
   "metadata": {},
   "outputs": [
    {
     "name": "stdout",
     "output_type": "stream",
     "text": [
      "[1, 2, 3, 5, 6]\n",
      "[1, 2, 3, 4, 5, 6]\n"
     ]
    }
   ],
   "source": [
    "#inserting an item at specific location\n",
    "my_list.remove(4) \n",
    "print(my_list)\n",
    "#now adding 4 back at 3 position\n",
    "my_list.insert(3,4)\n",
    "print(my_list)"
   ]
  },
  {
   "cell_type": "code",
   "execution_count": 70,
   "id": "8eb4a604-4034-4825-98c4-7bdde2855fcc",
   "metadata": {},
   "outputs": [
    {
     "name": "stdout",
     "output_type": "stream",
     "text": [
      "[1, 2, 3, 4, 5, 6, 7, 8, 9, 'Sid']\n"
     ]
    }
   ],
   "source": [
    "#to add multiple items\n",
    "my_list.extend([7,8,9,'Sid'])\n",
    "print(my_list)"
   ]
  },
  {
   "cell_type": "code",
   "execution_count": 71,
   "id": "fc5a2ee2-40db-410f-b241-5a6cfecb0b05",
   "metadata": {},
   "outputs": [
    {
     "name": "stdout",
     "output_type": "stream",
     "text": [
      "Sid\n",
      "[1, 2, 3, 4, 5, 6, 7, 8, 9]\n",
      "1\n",
      "[2, 3, 4, 5, 6, 7, 8, 9]\n"
     ]
    }
   ],
   "source": [
    "#pop removes item from the list and returns it (by default last index is set)\n",
    "item = my_list.pop()\n",
    "print(item)\n",
    "print(my_list)\n",
    "item =my_list.pop(0)\n",
    "print(item)\n",
    "print(my_list)"
   ]
  },
  {
   "cell_type": "code",
   "execution_count": 72,
   "id": "d5aff2ca-c2c8-4c11-a799-d1ebbfc01ba2",
   "metadata": {},
   "outputs": [
    {
     "name": "stdout",
     "output_type": "stream",
     "text": [
      "[3, 4, 5, 6, 7, 8, 9]\n"
     ]
    }
   ],
   "source": [
    "#To remove an item by index\n",
    "del my_list[0]\n",
    "print(my_list)"
   ]
  },
  {
   "cell_type": "code",
   "execution_count": 95,
   "id": "599a5e4a-9089-4143-9047-eb172c233cfb",
   "metadata": {},
   "outputs": [
    {
     "name": "stdout",
     "output_type": "stream",
     "text": [
      "[]\n"
     ]
    }
   ],
   "source": [
    "#to remove all items\n",
    "my_list.clear()\n",
    "print(my_list)"
   ]
  },
  {
   "cell_type": "code",
   "execution_count": 96,
   "id": "f4126bfe-ba66-48e8-a0d4-e95e9fc035ff",
   "metadata": {},
   "outputs": [
    {
     "name": "stdout",
     "output_type": "stream",
     "text": [
      "[1, 2, 3, 4, 5]\n",
      "[1, 2, 3, 4, 5]\n",
      "[1, 2, 3, 4, 5, 6]\n"
     ]
    }
   ],
   "source": [
    "my_list.extend([1,2,3,4,5])\n",
    "print(my_list)\n",
    "copy_list = list.copy(my_list) # or copy_list = my_list or my_list.copy()\n",
    "print(copy_list)\n",
    "copy_list.append(6)\n",
    "print(copy_list)\n"
   ]
  },
  {
   "cell_type": "code",
   "execution_count": 97,
   "id": "8146310a-ad64-48f9-a525-342526408b68",
   "metadata": {},
   "outputs": [
    {
     "name": "stdout",
     "output_type": "stream",
     "text": [
      "3\n",
      "2\n"
     ]
    }
   ],
   "source": [
    "#finding elements\n",
    "\n",
    "print(my_list.index(4)) #returns index of first occurence\n",
    "#Question: How to find index of second occurence or subsequent???\n",
    "\n",
    "my_list.append(4)\n",
    "print(my_list.count(4)) #find count of an item"
   ]
  },
  {
   "cell_type": "code",
   "execution_count": null,
   "id": "08be07d8-95f6-489e-9d4c-8193765948c6",
   "metadata": {},
   "outputs": [],
   "source": [
    "#Question: How to remove all occurences of an item??\n",
    "\n",
    "#Answer: can be achieved using loops like for,while\n",
    "         #ideal way is to do using list comprehension"
   ]
  },
  {
   "cell_type": "code",
   "execution_count": 111,
   "id": "a54bb61d-2a8e-455f-99b2-6db08b98c284",
   "metadata": {},
   "outputs": [
    {
     "name": "stdout",
     "output_type": "stream",
     "text": [
      "[1, 2, 3, 4, 7, 8, 9, 9]\n",
      "[9, 9, 8, 7, 4, 3, 2, 1]\n",
      "[1, 2, 3, 4, 7, 8, 9, 9]\n",
      "[9, 9, 8, 7, 4, 3, 2, 1]\n",
      "[1, 3.5, 4]\n"
     ]
    }
   ],
   "source": [
    "#sorting and reversing\n",
    "lst = [3,4,7,8,2,9,9,1]\n",
    "lst.sort()\n",
    "print(lst)\n",
    "lst.sort(reverse = True)\n",
    "print(lst)\n",
    "lst.sort()\n",
    "print(lst)\n",
    "lst.reverse()\n",
    "print(lst)\n",
    "\n",
    "#cant sort if list has other data type like str but works for float\n",
    "lstt = [4,1,3.5]\n",
    "lstt.sort()\n",
    "print(lstt)"
   ]
  },
  {
   "cell_type": "code",
   "execution_count": 109,
   "id": "3ded45e4-38ee-4144-83ad-9dc751ff0ef3",
   "metadata": {},
   "outputs": [
    {
     "name": "stdout",
     "output_type": "stream",
     "text": [
      "7\n",
      "9\n",
      "1\n",
      "30\n",
      "[9, 1, 2, 3, 4, 5, 6]\n",
      "[1, 2, 3, 4, 5, 6, 9]\n"
     ]
    }
   ],
   "source": [
    "#Built-in functions that work with list\n",
    "lst = [9,1,2,3,4,5,6]\n",
    "\n",
    "#get the lenghth of the list\n",
    "print(len(lst))\n",
    "\n",
    "#find maximum\n",
    "print(max(lst))\n",
    "#find minimum\n",
    "print(min(lst))\n",
    "#sum of lst\n",
    "print(sum(lst))\n",
    "\n",
    "#question what does sum return if there is a str in list\n",
    "#Answer: It throws error unsupported operand type\n",
    "#lst = [1,3,'sid']\n",
    "#print(sum(lst))\n",
    "\n",
    "#to create a sorted list without affecting the original one\n",
    "nlst = sorted(lst)\n",
    "print(lst)\n",
    "print(nlst)"
   ]
  },
  {
   "cell_type": "code",
   "execution_count": 113,
   "id": "8ac33e63-7e75-4d2d-b2ef-c558c632e247",
   "metadata": {},
   "outputs": [
    {
     "name": "stdout",
     "output_type": "stream",
     "text": [
      "False\n",
      "True\n",
      "True\n",
      "False\n"
     ]
    }
   ],
   "source": [
    "#checking membership\n",
    "\n",
    "#using in\n",
    "lst=[1,2,3,4]\n",
    "exists = 5 in lst\n",
    "print(exists)\n",
    "exists = 4 in lst\n",
    "print(exists)\n",
    "\n",
    "#using not in\n",
    "exists = 5 not in lst\n",
    "print(exists)\n",
    "exists = 4 not in lst\n",
    "print(exists)\n"
   ]
  },
  {
   "cell_type": "code",
   "execution_count": 119,
   "id": "0e095abd-5908-4c4d-8a19-86c53d01932d",
   "metadata": {},
   "outputs": [
    {
     "name": "stdout",
     "output_type": "stream",
     "text": [
      "[4, 5, 9, 10]\n"
     ]
    }
   ],
   "source": [
    "lst = [4,5,9,10]\n",
    "#slicing\n",
    "print(lst[0:4])"
   ]
  },
  {
   "cell_type": "code",
   "execution_count": 122,
   "id": "fdb30b48-ebe8-4041-9a9b-b62e57192f3f",
   "metadata": {},
   "outputs": [
    {
     "name": "stdout",
     "output_type": "stream",
     "text": [
      "[1, 4, 9, 16, 25]\n",
      "[1, 2, 3, 4, 5]\n",
      "[1, 4, 9, 16, 25]\n"
     ]
    }
   ],
   "source": [
    "#list comprehension\n",
    "#new_list/old_list = [expression for item in old_list]\n",
    "\n",
    "numbers = [1,2,3,4,5]\n",
    "squared_nums=[]\n",
    "squared_nums2=[]\n",
    "\n",
    "for num in numbers:\n",
    "    squared_nums.append(num * num)\n",
    "print(squared_nums)\n",
    "print(numbers)\n",
    "\n",
    "#this can be acheived in one line using list comprehension\n",
    "\n",
    "squared_nums2 = [num * num for num in numbers]\n",
    "print(squared_nums2)"
   ]
  },
  {
   "cell_type": "code",
   "execution_count": null,
   "id": "0fe8f046-4173-40a4-883a-b1314e1a9369",
   "metadata": {},
   "outputs": [],
   "source": [
    "#DICTIONARY"
   ]
  },
  {
   "cell_type": "code",
   "execution_count": 154,
   "id": "6d3f7f81-a434-42c6-adc2-ec1cefb52b7e",
   "metadata": {},
   "outputs": [
    {
     "name": "stdout",
     "output_type": "stream",
     "text": [
      "{'name': 'sid', 'role': 'ML_Dev', 'age': 27}\n"
     ]
    }
   ],
   "source": [
    "#declaring a dictionary\n",
    "my_detail = {\"name\":\"sid\",\"role\":\"ML_Dev\",\"age\": 27}\n",
    "print(my_detail)"
   ]
  },
  {
   "cell_type": "code",
   "execution_count": 155,
   "id": "76669a8a-4970-4a5f-80bf-6dfa60a6e78d",
   "metadata": {},
   "outputs": [
    {
     "name": "stdout",
     "output_type": "stream",
     "text": [
      "sid\n",
      "not found\n",
      "sid\n",
      "dict_keys(['name', 'role', 'age'])\n",
      "['name', 'role', 'age']\n",
      "['age', 'name', 'role']\n",
      "dict_items([('name', 'sid'), ('role', 'ML_Dev'), ('age', 27)])\n"
     ]
    }
   ],
   "source": [
    "#to get value for a key\n",
    "print(my_detail.get(\"name\"))\n",
    "print(my_detail.get(\"height\",\"not found\")) #passing default value incase no value\n",
    "print(my_detail[\"name\"])\n",
    "\n",
    "#to get all keys\n",
    "print(my_detail.keys())\n",
    "lst = list(my_detail.keys())\n",
    "print(lst)\n",
    "lst.sort()\n",
    "print(lst)\n",
    "\n",
    "#getting key-value pairs\n",
    "print(my_detail.items())"
   ]
  },
  {
   "cell_type": "code",
   "execution_count": 156,
   "id": "31ec54de-320e-43c4-a43e-948b83059cb9",
   "metadata": {},
   "outputs": [
    {
     "name": "stdout",
     "output_type": "stream",
     "text": [
      "[('name', 'sid'), ('role', 'ML_Dev'), ('age', 27), ('height', 6)]\n",
      "[('name', 'Siddharth'), ('role', 'ML_Dev'), ('age', 27), ('height', 6)]\n",
      "[('name', 'siddharth rane'), ('role', 'ML_Dev'), ('age', 27), ('height', 26), ('gender', 'M')]\n"
     ]
    }
   ],
   "source": [
    "#adding/Updating items in dictionary\n",
    "my_detail[\"height\"] = 6\n",
    "print(list(my_detail.items()))\n",
    "my_detail[\"name\"] = \"Siddharth\" #direct update\n",
    "print(list(my_detail.items()))\n",
    "\n",
    "#but for multiple items or adding multiple items\n",
    "my_detail.update(name = \"siddharth rane\",height = 26, gender = \"M\")\n",
    "print(list(my_detail.items()))"
   ]
  },
  {
   "cell_type": "code",
   "execution_count": 157,
   "id": "176e4eaf-1cd7-4698-94e8-fbc61bcde16e",
   "metadata": {},
   "outputs": [
    {
     "name": "stdout",
     "output_type": "stream",
     "text": [
      "M\n",
      "[('name', 'siddharth rane'), ('role', 'ML_Dev'), ('age', 27), ('height', 26)]\n",
      "[('name', 'siddharth rane'), ('role', 'ML_Dev'), ('age', 27), ('height', 26), ('gender', 'Male')]\n",
      "('gender', 'Male')\n",
      "[('name', 'siddharth rane'), ('role', 'ML_Dev'), ('age', 27), ('height', 26)]\n"
     ]
    }
   ],
   "source": [
    "#removing elements from dictionary\n",
    "item = my_detail.pop('gender')  #returns a value \n",
    "print(item)\n",
    "print(list(my_detail.items()))\n",
    "my_detail.update(gender=\"Male\")\n",
    "print(list(my_detail.items()))\n",
    "item = my_detail.popitem()  #removes and returns last key value par\n",
    "print(item)\n",
    "print(list(my_detail.items()))\n",
    "\n",
    "#my_detail.clear()  will remove all items\n",
    "\n",
    "del my_detail['height'] # will rremove key"
   ]
  },
  {
   "cell_type": "code",
   "execution_count": 158,
   "id": "7813d12d-d776-4db6-91b6-3e4337acc99d",
   "metadata": {},
   "outputs": [
    {
     "name": "stdout",
     "output_type": "stream",
     "text": [
      "[('name', 'siddharth rane'), ('role', 'ML_Dev'), ('age', 27), ('height', 26)]\n"
     ]
    }
   ],
   "source": [
    "#copying\n",
    "my_detail_copy = my_detail.copy()\n",
    "print(list(my_detail_copy.items()))"
   ]
  },
  {
   "cell_type": "code",
   "execution_count": 159,
   "id": "3f07b0a9-420c-48b6-a33c-c507112a3025",
   "metadata": {},
   "outputs": [
    {
     "name": "stdout",
     "output_type": "stream",
     "text": [
      "{'name': 0, 'role': 0, 'age': 0, 'height': 0}\n"
     ]
    }
   ],
   "source": [
    "#Creating Dictionary with same value for all keys\n",
    "keys = list(my_detail.keys())\n",
    "d= dict.fromkeys(keys, 0) #dict with value 1 for all keys\n",
    "\n",
    "print(d)"
   ]
  },
  {
   "cell_type": "code",
   "execution_count": 161,
   "id": "3c36256e-f5cc-4f32-8ac1-835383326c42",
   "metadata": {},
   "outputs": [
    {
     "name": "stdout",
     "output_type": "stream",
     "text": [
      "True\n",
      "False\n"
     ]
    }
   ],
   "source": [
    "#checking keys\n",
    "exists = 'name' in d\n",
    "print(exists)\n",
    "exists = 'weight' in d\n",
    "print(exists)\n",
    "\n",
    "#similiar for not in"
   ]
  },
  {
   "cell_type": "code",
   "execution_count": 163,
   "id": "4315c7c1-382f-4514-8be4-7ee6186b5644",
   "metadata": {},
   "outputs": [
    {
     "name": "stdout",
     "output_type": "stream",
     "text": [
      "4\n",
      "role\n",
      "0\n",
      "age\n",
      "0\n",
      "['age', 'height', 'name', 'role']\n",
      "[0, 0, 0, 0]\n"
     ]
    }
   ],
   "source": [
    "#built-in functions that work with dictionary\n",
    "\n",
    "#get length\n",
    "print(len(d)) \n",
    "print(max(d)) #max of keys\n",
    "print(max(d.values())) # max of values\n",
    "print(min(d)) #min of keys\n",
    "print(min(d.values())) #min of values\n",
    "\n",
    "#get sorted keys\n",
    "sorted_keys = sorted(d)\n",
    "#get sorted values\n",
    "sorted_values = sorted(d.values())\n",
    "print(sorted_keys)\n",
    "print(sorted_values)\n",
    "\n"
   ]
  },
  {
   "cell_type": "code",
   "execution_count": 192,
   "id": "53296d8d-adc0-4af9-a9d1-d84b83ee5cba",
   "metadata": {},
   "outputs": [
    {
     "name": "stdout",
     "output_type": "stream",
     "text": [
      "90 91 92 93 94 \n",
      "0 1 2 3 4 \n",
      "1 3 5 7 9 "
     ]
    }
   ],
   "source": [
    "#Loops and Conditions\n",
    "\n",
    "#for loop\n",
    "\n",
    "for i in range(90,95):\n",
    "    print(i,end=\" \")\n",
    "print()\n",
    "for i in range(5):\n",
    "    print(i,end=\" \")\n",
    "print()\n",
    "for i in range(1,10,2):    #third parameter is step\n",
    "    print(i,end=\" \")"
   ]
  },
  {
   "cell_type": "code",
   "execution_count": 181,
   "id": "01d1d381-11b0-438d-8cd9-6c965b2c9277",
   "metadata": {},
   "outputs": [
    {
     "name": "stdout",
     "output_type": "stream",
     "text": [
      "Enter valid age\n"
     ]
    }
   ],
   "source": [
    "#question printing in same line possible??  print(i,end=\" \")\n",
    "#if,elif,else\n",
    "\n",
    "age= -2\n",
    "if age >= 18:\n",
    "    print(\"you can vote\")\n",
    "elif age < 18 and age > 0:\n",
    "    print(\"you cannot vote\")\n",
    "else:\n",
    "    print(\"Enter valid age\")"
   ]
  },
  {
   "cell_type": "code",
   "execution_count": 191,
   "id": "034ef604-91b7-4955-a14a-6abdf3d616a6",
   "metadata": {},
   "outputs": [
    {
     "name": "stdout",
     "output_type": "stream",
     "text": [
      "You can drive\n",
      "you can drive\n"
     ]
    }
   ],
   "source": [
    "#logical operators\n",
    "age = 20\n",
    "has_license = True\n",
    "\n",
    "if age > 18 and has_license:\n",
    "    print(\"You can drive\")\n",
    "\n",
    "if age > 18 or not has_license:   #use not instead of!has_license\n",
    "    print(\"you can drive\")"
   ]
  },
  {
   "cell_type": "code",
   "execution_count": 225,
   "id": "9c882eea-28e8-46aa-910c-c3b4a4c60035",
   "metadata": {},
   "outputs": [
    {
     "name": "stdout",
     "output_type": "stream",
     "text": [
      "apple banana orange 0 : apple\n",
      "1 : banana\n",
      "2 : orange\n",
      "Fun day\n"
     ]
    }
   ],
   "source": [
    "#looping through a list\n",
    "fruits =[\"apple\",\"banana\",\"orange\"]\n",
    "\n",
    "for fruit in fruits:\n",
    "    print(fruit,end = \" \")\n",
    "\n",
    "#if we want to loop with index\n",
    "for i,fruit in enumerate(fruits):\n",
    "    print(f\"{i} : {fruit}\")  \n",
    "\n",
    "#Question : what is significance of f in print statement??\n",
    "#Answer: It is formated string literal to insert variable and expressions directly into strings\n",
    "\n",
    "print(f\"{\"Fun day\"if \"apple\" in fruits else \"boring day\"}\")\n"
   ]
  },
  {
   "cell_type": "code",
   "execution_count": 212,
   "id": "dbb2ce80-46c3-4e82-9659-b8c6a695d690",
   "metadata": {},
   "outputs": [
    {
     "name": "stdout",
     "output_type": "stream",
     "text": [
      "name role \n",
      "sid ML_dev \n",
      "name--->sid\n",
      "role--->ML_dev\n"
     ]
    }
   ],
   "source": [
    "#looping through dictionary\n",
    "dict1 = {\"name\":\"sid\",\"role\":\"ML_dev\"}\n",
    "\n",
    "for x in dict1:\n",
    "    print(x,end=\" \")\n",
    "print()\n",
    "for v in dict1.values():\n",
    "    print(v,end=\" \")\n",
    "print()\n",
    "\n",
    "#looping through key value pairs\n",
    "for key,value in dict1.items():\n",
    "    print(f\"{key}--->{value}\")\n",
    "\n"
   ]
  },
  {
   "cell_type": "code",
   "execution_count": 214,
   "id": "2c60c669-3854-4adc-9f5a-e431778b8759",
   "metadata": {},
   "outputs": [
    {
     "name": "stdout",
     "output_type": "stream",
     "text": [
      "1 2 3 4 5 "
     ]
    }
   ],
   "source": [
    "#while loops\n",
    "count = 0\n",
    "\n",
    "while count < 5:\n",
    "    count +=1\n",
    "\n",
    "    print(count,end=\" \")"
   ]
  },
  {
   "cell_type": "code",
   "execution_count": 220,
   "id": "c2e20d7a-c75d-47c5-9100-138d4264e890",
   "metadata": {},
   "outputs": [
    {
     "name": "stdin",
     "output_type": "stream",
     "text": [
      "Enter password pass\n"
     ]
    },
    {
     "name": "stdout",
     "output_type": "stream",
     "text": [
      "Access Granted\n"
     ]
    }
   ],
   "source": [
    "password = \"\"\n",
    "while password!= \"pass\":\n",
    "    password = input(\"Enter password\")\n",
    "print(\"Access Granted\")\n"
   ]
  },
  {
   "cell_type": "code",
   "execution_count": 224,
   "id": "7f2b0e25-3562-4f07-98da-1874ceb19d2f",
   "metadata": {},
   "outputs": [
    {
     "name": "stdout",
     "output_type": "stream",
     "text": [
      "0 1 2 \n",
      "0 1 2 4 "
     ]
    }
   ],
   "source": [
    "#loop control\n",
    "for i in range(5):\n",
    "    if i == 3:\n",
    "        break     #breaks the loop\n",
    "    print(i,end=\" \")\n",
    "print()\n",
    "for i in range(5):\n",
    "    if i == 3:\n",
    "        continue       #skips\n",
    "    print(i,end=\" \")"
   ]
  },
  {
   "cell_type": "code",
   "execution_count": 230,
   "id": "ee37e9ec-acdc-4128-a5bb-de24b493f603",
   "metadata": {},
   "outputs": [
    {
     "name": "stdout",
     "output_type": "stream",
     "text": [
      "1:sid 2:jake 3:amy "
     ]
    }
   ],
   "source": [
    "#enumerate  gives both index and value\n",
    "names=[\"sid\",\"jake\",\"amy\"]\n",
    "for i,name in enumerate(names,1):  #second parameter is start\n",
    "    print(f\"{i}:{name}\",end=\" \")\n"
   ]
  },
  {
   "cell_type": "code",
   "execution_count": 231,
   "id": "0957fefd-7c98-414f-9106-f95cee861508",
   "metadata": {},
   "outputs": [
    {
     "name": "stdout",
     "output_type": "stream",
     "text": [
      "sid:22\n",
      "jake:23\n",
      "amy:21\n"
     ]
    }
   ],
   "source": [
    "#zip combines multiple lists element by element, like a zipper\n",
    "names=[\"sid\",\"jake\",\"amy\"]\n",
    "age=[22,23,21]\n",
    "\n",
    "for name,age in zip(names,age):\n",
    "    print(f\"{name}:{age}\")"
   ]
  },
  {
   "cell_type": "code",
   "execution_count": null,
   "id": "545959d0-3185-45c9-a4a6-03f927ba6789",
   "metadata": {},
   "outputs": [],
   "source": [
    "#Question: What happens if length does not match???\n",
    "#Answer: IT stops at shortest length"
   ]
  },
  {
   "cell_type": "code",
   "execution_count": 237,
   "id": "631fc0db-125f-411e-98a5-38b3df9c5028",
   "metadata": {},
   "outputs": [
    {
     "name": "stdout",
     "output_type": "stream",
     "text": [
      "[('sid', 22), ('jake', 23), ('amy', 21)]\n"
     ]
    }
   ],
   "source": [
    "#creating dictionary from two lists\n",
    "names=[\"sid\",\"jake\",\"amy\"]\n",
    "age=[22,23,21]\n",
    "details= list(zip(names,age))\n",
    "print(details)"
   ]
  },
  {
   "cell_type": "code",
   "execution_count": 241,
   "id": "fa013e17-6b11-484b-b943-459bbc54f163",
   "metadata": {},
   "outputs": [
    {
     "name": "stdout",
     "output_type": "stream",
     "text": [
      "Hello!\n",
      "Hello!\n",
      "Hello Sid!\n",
      "7\n"
     ]
    }
   ],
   "source": [
    "#Functions and OOPS basics in python\n",
    "\n",
    "#functions are reusable blocks of code that perform specific tasks\n",
    "\n",
    "def greet():\n",
    "    print(\"Hello!\")\n",
    "\n",
    "greet()\n",
    "greet()\n",
    "\n",
    "#functions with parameters\n",
    "def greet(name):\n",
    "    print(f\"Hello {name}!\")\n",
    "greet(\"Sid\")\n",
    "\n",
    "#multiple parameters\n",
    "def add(a,b):\n",
    "    return a+b\n",
    "sum = add(3,4)\n",
    "print(sum)"
   ]
  },
  {
   "cell_type": "code",
   "execution_count": 243,
   "id": "33071325-76e2-4f24-a817-400ec5641ffe",
   "metadata": {},
   "outputs": [
    {
     "name": "stdout",
     "output_type": "stream",
     "text": [
      "Tom is now barking!\n",
      "Tiger is now barking!\n"
     ]
    }
   ],
   "source": [
    "#Classes and Objects\n",
    "\n",
    "class Dog:\n",
    "    def __init__(self,name):   #called when object is created\n",
    "        self.name= name\n",
    "    def bark(self):\n",
    "        print(f\"{self.name} is now barking!\")\n",
    "\n",
    "dog1 = Dog(\"Tom\")\n",
    "dog2 = Dog(\"Tiger\")\n",
    "\n",
    "dog1.bark()\n",
    "dog2.bark()"
   ]
  },
  {
   "cell_type": "code",
   "execution_count": null,
   "id": "7a610483-3039-47be-8418-7375721a81c5",
   "metadata": {},
   "outputs": [],
   "source": [
    "def emptyfunction():\n",
    "    pass  #means do nothing"
   ]
  }
 ],
 "metadata": {
  "kernelspec": {
   "display_name": "Python 3 (ipykernel)",
   "language": "python",
   "name": "python3"
  },
  "language_info": {
   "codemirror_mode": {
    "name": "ipython",
    "version": 3
   },
   "file_extension": ".py",
   "mimetype": "text/x-python",
   "name": "python",
   "nbconvert_exporter": "python",
   "pygments_lexer": "ipython3",
   "version": "3.13.5"
  }
 },
 "nbformat": 4,
 "nbformat_minor": 5
}
